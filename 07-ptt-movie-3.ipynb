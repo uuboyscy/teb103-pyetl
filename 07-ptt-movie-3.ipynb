{
 "cells": [
  {
   "cell_type": "code",
   "execution_count": 3,
   "metadata": {},
   "outputs": [
    {
     "name": "stdout",
     "output_type": "stream",
     "text": [
      "Re: [討論]寄生上流最討厭的一段\n",
      "https://www.ptt.cc/bbs/movie/M.1605406395.A.23B.html\n",
      "========\n",
      "[金馬影展]晨曦將至、通靈駕訓班、唬爛三小 \n",
      "https://www.ptt.cc/bbs/movie/M.1605408325.A.F8B.html\n",
      "========\n",
      "[好雷] 人生況味 Was wir wollten (Netflix奧片)\n",
      "https://www.ptt.cc/bbs/movie/M.1605409743.A.275.html\n",
      "========\n",
      "[公告] 板規 2020/03/01 (增加14.1)\n",
      "https://www.ptt.cc/bbs/movie/M.1559611458.A.DCA.html\n",
      "========\n",
      "[公告] 關於跑步哥\n",
      "https://www.ptt.cc/bbs/movie/M.1578684521.A.1B8.html\n",
      "========\n",
      "[情報] 近期院線預計重映片單\n",
      "https://www.ptt.cc/bbs/movie/M.1589355894.A.CDD.html\n",
      "========\n",
      "[公告][板規] 電影版申訴與檢舉辦法\n",
      "https://www.ptt.cc/bbs/movie/M.1596465114.A.0D2.html\n",
      "========\n",
      "[公告] 電影板板規12/08/2020\n",
      "https://www.ptt.cc/bbs/movie/M.1597242609.A.606.html\n",
      "========\n"
     ]
    }
   ],
   "source": [
    "import requests\n",
    "from bs4 import BeautifulSoup\n",
    "\n",
    "userAgent = 'Mozilla/5.0 (Macintosh; Intel Mac OS X 11_0_0) AppleWebKit/537.36 (KHTML, like Gecko) Chrome/86.0.4240.193 Safari/537.36'\n",
    "headers = {\n",
    "    'User-Agent': userAgent\n",
    "}\n",
    "\n",
    "url = 'https://www.ptt.cc/bbs/movie/index.html'\n",
    "\n",
    "res = requests.get(url, headers=headers)\n",
    "soup = BeautifulSoup(res.text, 'html.parser')\n",
    "\n",
    "# titles = soup.select('div.title')\n",
    "\n",
    "# for titleTag in titles:\n",
    "# #     print(titleTag)\n",
    "#     title = titleTag.select_one('a').text\n",
    "#     articleUrl = 'https://www.ptt.cc' + titleTag.select_one('a')['href']\n",
    "#     print(title)\n",
    "#     print(articleUrl)\n",
    "#     print('========')\n",
    "\n",
    "#################\n",
    "    \n",
    "# titles = soup.select('div.title a')\n",
    "# for titleTag in titles:\n",
    "# #     print(titleTag)\n",
    "#     title = titleTag.text\n",
    "#     articleUrl = 'https://www.ptt.cc' + titleTag['href']\n",
    "#     print(title)\n",
    "#     print(articleUrl)\n",
    "#     print('========')\n",
    "\n",
    "###############\n",
    "\n",
    "titles = soup.select('div.title')\n",
    "\n",
    "for titleTag in titles:\n",
    "#     print(titleTag)\n",
    "    title = titleTag.a.text\n",
    "    articleUrl = 'https://www.ptt.cc' + titleTag.a['href']\n",
    "    print(title)\n",
    "    print(articleUrl)\n",
    "    print('========')\n",
    "\n",
    "\n"
   ]
  },
  {
   "cell_type": "code",
   "execution_count": null,
   "metadata": {},
   "outputs": [],
   "source": []
  }
 ],
 "metadata": {
  "kernelspec": {
   "display_name": "Python 3",
   "language": "python",
   "name": "python3"
  },
  "language_info": {
   "codemirror_mode": {
    "name": "ipython",
    "version": 3
   },
   "file_extension": ".py",
   "mimetype": "text/x-python",
   "name": "python",
   "nbconvert_exporter": "python",
   "pygments_lexer": "ipython3",
   "version": "3.8.2"
  }
 },
 "nbformat": 4,
 "nbformat_minor": 4
}
