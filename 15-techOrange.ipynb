{
 "cells": [
  {
   "cell_type": "code",
   "execution_count": 12,
   "metadata": {},
   "outputs": [
    {
     "name": "stdout",
     "output_type": "stream",
     "text": [
      "https://buzzorange.com/techorange/2020/11/20/tmytek-5g-mmwave-livedemo/\n",
      "ga('send', 'event', 'TO Home Posts', 'Click', '【現場 Live Demo 給你看】稜研科技實測毫米波產品，3 秒內抓出有問題的模組', {'nonInteraction': 1});\n",
      "https://buzzorange.com/techorange/2020/11/20/iqiyi-literature-member/\n",
      "ga('send', 'event', 'TO Home Posts', 'Click', '【中國特有的文化消費】愛奇藝打通網路文學平台，打造「愛奇藝生態系」', {'nonInteraction': 1});\n",
      "https://buzzorange.com/techorange/2020/11/20/human-brain/\n",
      "ga('send', 'event', 'TO Home Posts', 'Click', '人類是哺乳類中最高等的生物嗎？科學家將一個基因植入猴腦找出了解答', {'nonInteraction': 1});\n",
      "https://buzzorange.com/techorange/2020/11/20/low-cost-carrier-jetblue-founder-david-neeleman/\n",
      "ga('send', 'event', 'TO Home Posts', 'Click', '做好「Dirty Work」是他的原則，這位連續創業家如今擁有年收入 76 億美元的廉航公司！', {'nonInteraction': 1});\n",
      "https://buzzorange.com/techorange/2020/11/20/91app-double-11-observation-report/\n",
      "ga('send', 'event', 'TO Home Posts', 'Click', '【雙 11 魔王週後的回顧】91App 產品長李昆謀分享推播策略、系統備戰 mindset！', {'nonInteraction': 1});\n",
      "https://buzzorange.com/techorange/2020/11/20/keep-warm-community/\n",
      "ga('send', 'event', 'TO Home Posts', 'Click', '奧美總經理如何培養關係？克制自己想被關注的渴望，做到不露痕跡的關心', {'nonInteraction': 1});\n",
      "https://buzzorange.com/techorange/2020/11/20/worst-password/\n",
      "ga('send', 'event', 'TO Home Posts', 'Click', '爛密碼大賞，2 百萬人用的密碼 1 秒就破解', {'nonInteraction': 1});\n",
      "https://buzzorange.com/techorange/2020/11/20/pegatron_electric-vehicle_us/\n",
      "ga('send', 'event', 'TO Home Posts', 'Click', '【拉近與特斯拉的距離？】和碩將前往美國設廠，童子賢看好汽車業年產值將是半導體的 10 倍！', {'nonInteraction': 1});\n",
      "https://buzzorange.com/techorange/2020/11/20/meowtalk/\n",
      "ga('send', 'event', 'TO Home Posts', 'Click', '由亞馬遜 Alexa 工程師開發，這款 App 能解釋喵星人 13 種「喵」的意思！', {'nonInteraction': 1});\n",
      "https://buzzorange.com/techorange/2020/11/20/line-chat-room-new-ios/\n",
      "ga('send', 'event', 'TO Home Posts', 'Click', '【LINE 聊天室分類功能新登場】iOS 用戶終於等到！LINE 群組無限繁殖也不怕', {'nonInteraction': 1});\n",
      "https://buzzorange.com/techorange/2020/11/20/sakuna/\n",
      "ga('send', 'event', 'TO Home Posts', 'Click', '種田遊戲內容太符合現實，玩家：農委會網站就是本作最強攻略', {'nonInteraction': 1});\n",
      "https://buzzorange.com/techorange/2020/11/20/tesla-autopilot-safety/\n",
      "ga('send', 'event', 'TO Home Posts', 'Click', '德國研究：使用特斯拉自駕系統，能避免 90% 的交通事故', {'nonInteraction': 1});\n",
      "https://buzzorange.com/techorange/2020/11/19/benfords-law-and-vote/\n",
      "ga('send', 'event', 'TO Home Posts', 'Click', '【到底什麼是班佛定律】網傳：拜登得票數不符合「班佛定律」所以是作票？', {'nonInteraction': 1});\n",
      "https://buzzorange.com/techorange/2020/11/19/global-warming-and-typhoon/\n",
      "ga('send', 'event', 'TO Home Posts', 'Click', '【沒有颱風會怎樣】中研院最新研究：全球暖化將導致颱風數量減少，空污季也會提前、變長！', {'nonInteraction': 1});\n",
      "https://buzzorange.com/techorange/2020/11/19/japan-cyborg-cockroaches/\n",
      "ga('send', 'event', 'TO Home Posts', 'Click', '【內有圖不喜請左轉】日本團隊打造「半機器蟑螂」，好飼養、易繁殖、還可以搬東西', {'nonInteraction': 1});\n",
      "https://buzzorange.com/techorange/2020/11/19/camel-fur-refrigerator/\n",
      "ga('send', 'event', 'TO Home Posts', 'Click', 'MIT 研發不用插電的冰箱，降溫秘密就在駱駝的毛！', {'nonInteraction': 1});\n",
      "https://buzzorange.com/techorange/2020/11/19/story-behind-mi/\n",
      "ga('send', 'event', 'TO Home Posts', 'Click', '【幕後故事】「光名字就想了一年！」蘋果三位高管談 M1 晶片', {'nonInteraction': 1});\n",
      "https://buzzorange.com/techorange/2020/11/19/foodpanda-food-delivery/\n",
      "ga('send', 'event', 'TO Home Posts', 'Click', '【外送服務夯爆！】明年 foodpanda 將開放沒有註冊的商家，上網填單就能找人幫送貨', {'nonInteraction': 1});\n",
      "https://buzzorange.com/techorange/2020/11/19/tainan-green-power/\n",
      "ga('send', 'event', 'TO Home Posts', 'Click', '真正落實低碳城市，臺南帶動綠能產業供應鏈', {'nonInteraction': 1});\n",
      "https://buzzorange.com/techorange/2020/11/19/machine_learning_why_so_boring/\n",
      "ga('send', 'event', 'TO Home Posts', 'Click', '【我以為在建模結果大部分在 Debug】機器學習工程師揭 4 大無聊工作內容，最後失望求去！', {'nonInteraction': 1});\n",
      "https://buzzorange.com/techorange/2020/11/19/machine-learning-google-chimera-painter-monster-model-training/\n",
      "ga('send', 'event', 'TO Home Posts', 'Click', '【機器學習還能幹嘛？】Google 玩壞機器學習，就是要讓你手殘也畫得出比精靈寶可夢還酷炫的怪獸！', {'nonInteraction': 1});\n",
      "https://buzzorange.com/techorange/2020/11/19/appletax-15-percent-decrease/\n",
      "ga('send', 'event', 'TO Home Posts', 'Click', '蘋果宣布調降 50%「蘋果稅」給中小型開發商活路', {'nonInteraction': 1});\n",
      "https://buzzorange.com/techorange/2020/11/19/mnf-split-water/\n",
      "ga('send', 'event', 'TO Home Posts', 'Click', '【再生能源可能方案】以 MNF 作為催化劑，科學家提升水分子的氫、氧分離效率', {'nonInteraction': 1});\n",
      "https://buzzorange.com/techorange/2020/11/19/tsmc-2nm/\n",
      "ga('send', 'event', 'TO Home Posts', 'Click', '【三星挫咧等？】台積電 2 奈米最快 2023 試產，有望搶輝達、超微大單', {'nonInteraction': 1});\n",
      "https://buzzorange.com/techorange/2020/11/19/tsmc-phoenix-200-million/\n",
      "ga('send', 'event', 'TO Home Posts', 'Click', '台積電將與鳳凰城簽訂協議，依規劃 2021 年開工 5 奈米廠', {'nonInteraction': 1});\n",
      "https://buzzorange.com/techorange/2020/11/18/software-engineer-interview/\n",
      "ga('send', 'event', 'TO Home Posts', 'Click', '【投稿】Facebook、Apple 等數十家美企他都面試過，這位神人現任 Google 軟體工程師', {'nonInteraction': 1});\n",
      "https://buzzorange.com/techorange/2020/11/18/pass-the-butter-butter-robot-launch-rick-and-morty/\n",
      "ga('send', 'event', 'TO Home Posts', 'Click', '【科幻動畫成真】《瑞克和莫蒂》奶油機器人推出真實版！具備情緒引擎以後會反抗你', {'nonInteraction': 1});\n",
      "https://buzzorange.com/techorange/2020/11/18/meet-taipei/\n",
      "ga('send', 'event', 'TO Home Posts', 'Click', '【今年只有台灣辦得到！】亞洲創新創業嘉年華隆重開幕，532 家團隊參展創歷史新高', {'nonInteraction': 1});\n",
      "https://buzzorange.com/techorange/2020/11/18/geosat-2/\n",
      "ga('send', 'event', 'TO Home Posts', 'Click', '【專訪經緯航太創辦人羅正方】「叩叩叩！請打開窗戶取貨！」台灣智慧物流怎麼做到和亞馬遜一較高下？', {'nonInteraction': 1});\n",
      "https://buzzorange.com/techorange/2020/11/18/geosat/\n",
      "ga('send', 'event', 'TO Home Posts', 'Click', '【專訪經緯航太創辦人羅正方】棄 NASA 高薪回台貢獻！他如何用聰明的無人機，讓世界看見台灣？', {'nonInteraction': 1});\n",
      "https://buzzorange.com/techorange/2020/11/18/taiwan-eid-budget/\n",
      "ga('send', 'event', 'TO Home Posts', 'Click', '【反正就是還沒整合好】數位身分證引發資安疑慮，內政委員會凍結 4 億預算', {'nonInteraction': 1});\n",
      "https://buzzorange.com/techorange/2020/11/18/youtube-audio-ads/\n",
      "ga('send', 'event', 'TO Home Posts', 'Click', '【專搶 Spotify 生意】YouTube 推純聲音廣告，以「情緒」分類供廣告商選用', {'nonInteraction': 1});\n",
      "https://buzzorange.com/techorange/2020/11/18/google-new-icons-are-too-similar/\n",
      "ga('send', 'event', 'TO Home Posts', 'Click', '【絕對不只我眼盲】換 logo 之後，Google 開始承受前所未有的惡評與吐槽', {'nonInteraction': 1});\n",
      "https://buzzorange.com/techorange/2020/11/18/post-visa-will-combine-easy-card/\n",
      "ga('send', 'event', 'TO Home Posts', 'Click', '【大家的郵局好朋友更方便了】郵局 VISA 金融卡將結合悠遊卡，11/ 24 正式上路', {'nonInteraction': 1});\n",
      "https://buzzorange.com/techorange/2020/11/18/obama-spotify/\n",
      "ga('send', 'event', 'TO Home Posts', 'Click', '【總統級 Spotify 歌單】歐巴馬公開在白宮生涯中最愛聽的 20 首歌，原來他也聽阿姆啊', {'nonInteraction': 1});\n",
      "https://buzzorange.com/techorange/2020/11/18/amazon-online-pharmacy/\n",
      "ga('send', 'event', 'TO Home Posts', 'Click', '【還有什麼是電商辦不到的？】亞馬遜搶攻藥品零售，18 歲以上可線上預訂領藥', {'nonInteraction': 1});\n",
      "https://buzzorange.com/techorange/2020/11/18/samsung_2022_3nm/\n",
      "ga('send', 'event', 'TO Home Posts', 'Click', '【3 奈米不再是獨占神話？】三星砸 1160 億美元加速研發 3 奈米製程，拚 2022 年追上台積電！', {'nonInteraction': 1});\n",
      "https://buzzorange.com/techorange/2020/11/18/5g-manyfacturing-tainan/\n",
      "ga('send', 'event', 'TO Home Posts', 'Click', '上下游供應鏈大串聯！5G 臺南推動在地製造業數位轉型', {'nonInteraction': 1});\n",
      "https://buzzorange.com/techorange/2020/11/18/shopee-pay/\n",
      "ga('send', 'event', 'TO Home Posts', 'Click', '【未來會有蝦蝦 PAY 嗎】「蝦皮支付」成首家在台外資電支機構，金管會：中資疑慮已通過審查', {'nonInteraction': 1});\n",
      "https://buzzorange.com/techorange/2020/11/17/bearid-bears-facial-recognition/\n",
      "ga('send', 'event', 'TO Home Posts', 'Click', '【毛茸茸的臉部辨識】矽谷工程師夫妻因為太喜歡棕熊，開發出 AI 熊臉辨識技術', {'nonInteraction': 1});\n"
     ]
    }
   ],
   "source": [
    "import requests\n",
    "import json\n",
    "from bs4 import BeautifulSoup\n",
    "\n",
    "headers = {\n",
    "    'User-Agent': 'Mozilla/5.0 (Macintosh; Intel Mac OS X 11_0_0) AppleWebKit/537.36 (KHTML, like Gecko) Chrome/86.0.4240.198 Safari/537.36'\n",
    "}\n",
    "\n",
    "url = 'https://buzzorange.com/techorange/wp-admin/admin-ajax.php'\n",
    "\n",
    "dataStr = \"\"\"action: fm_ajax_load_more\n",
    "nonce: 1e4274d5ac\n",
    "page: 25\"\"\"\n",
    "\n",
    "data = {r.split(': ')[0]: r.split(': ')[1] for r in dataStr.split('\\n')}\n",
    "# data\n",
    "\n",
    "data = dict()\n",
    "for r in dataStr.split('\\n'):\n",
    "    data[r.split(': ')[0]] = r.split(': ')[1]\n",
    "# data\n",
    "\n",
    "for p in range(1, 6):\n",
    "    data['page'] = p\n",
    "    res = requests.post(url, data=data, headers=headers)\n",
    "    # print(res.text)\n",
    "    jsonData = json.loads(res.text)\n",
    "    # print(jsonData.keys())\n",
    "    # jsonData['success']\n",
    "    htmlStr = jsonData['data']\n",
    "    # print(jsonData['data'])\n",
    "    soup = BeautifulSoup(htmlStr, 'html.parser')\n",
    "    for i in soup.select('a.post-thumbnail'):\n",
    "        print(i['href'])\n",
    "        print(i['onclick'])"
   ]
  },
  {
   "cell_type": "code",
   "execution_count": 3,
   "metadata": {},
   "outputs": [
    {
     "data": {
      "text/plain": [
       "['action: fm_ajax_load_more_123123123',\n",
       " 'nonce: 1e4274d5ac_123123123',\n",
       " 'page: 25_123123123']"
      ]
     },
     "execution_count": 3,
     "metadata": {},
     "output_type": "execute_result"
    }
   ],
   "source": [
    "dataStr.split('\\n')\n",
    "tmpList = list()\n",
    "for i in dataStr.split('\\n'):\n",
    "    tmpList.append(i + '_123123123')\n",
    "    \n",
    "tmpList"
   ]
  },
  {
   "cell_type": "code",
   "execution_count": 4,
   "metadata": {},
   "outputs": [
    {
     "data": {
      "text/plain": [
       "['action: fm_ajax_load_more_123123123',\n",
       " 'nonce: 1e4274d5ac_123123123',\n",
       " 'page: 25_123123123']"
      ]
     },
     "execution_count": 4,
     "metadata": {},
     "output_type": "execute_result"
    }
   ],
   "source": [
    "[i + '_123123123' for i in dataStr.split('\\n')] # list"
   ]
  },
  {
   "cell_type": "code",
   "execution_count": null,
   "metadata": {},
   "outputs": [],
   "source": []
  }
 ],
 "metadata": {
  "kernelspec": {
   "display_name": "Python 3",
   "language": "python",
   "name": "python3"
  },
  "language_info": {
   "codemirror_mode": {
    "name": "ipython",
    "version": 3
   },
   "file_extension": ".py",
   "mimetype": "text/x-python",
   "name": "python",
   "nbconvert_exporter": "python",
   "pygments_lexer": "ipython3",
   "version": "3.8.2"
  }
 },
 "nbformat": 4,
 "nbformat_minor": 4
}
