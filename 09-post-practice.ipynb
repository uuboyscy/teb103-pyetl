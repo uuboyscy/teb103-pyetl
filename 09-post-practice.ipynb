{
 "cells": [
  {
   "cell_type": "code",
   "execution_count": 6,
   "metadata": {},
   "outputs": [
    {
     "name": "stdout",
     "output_type": "stream",
     "text": [
      "b'username=Allen&test=321'\n",
      "\n",
      "    <!doctype html>\n",
      "    <title>Hello, World!</title>\n",
      "    <h1>Hello, your name is ?</h1>\n",
      "    <p></p>\n",
      "    <form action=\"/hello_post\" method=\"post\">\n",
      "    <label>Name:</label>\n",
      "    <input type=\"textbox\" name=\"username\">\n",
      "    <input type=\"submit\" value=\"Submit\">\n",
      "    </form>\n",
      "    \n",
      "    <h1>Hello Allen !!</h1>\n",
      "    \n"
     ]
    }
   ],
   "source": [
    "from urllib import request, parse\n",
    "\n",
    "url = 'http://803c13ad001c.ngrok.io/hello_post'\n",
    "\n",
    "data = {\n",
    "    'username': 'Allen',\n",
    "    'test': '321'\n",
    "}\n",
    "\n",
    "data = bytes(parse.urlencode(data), encoding='utf-8')\n",
    "print(data)\n",
    "\n",
    "req = request.Request(url=url, data=data)\n",
    "res = request.urlopen(req)\n",
    "print(res.read().decode('utf8'))"
   ]
  },
  {
   "cell_type": "code",
   "execution_count": 8,
   "metadata": {},
   "outputs": [
    {
     "name": "stdout",
     "output_type": "stream",
     "text": [
      "\n",
      "    <!doctype html>\n",
      "    <title>Hello, World!</title>\n",
      "    <h1>Hello, your name is ?</h1>\n",
      "    <p></p>\n",
      "    <form action=\"/hello_post\" method=\"post\">\n",
      "    <label>Name:</label>\n",
      "    <input type=\"textbox\" name=\"username\">\n",
      "    <input type=\"submit\" value=\"Submit\">\n",
      "    </form>\n",
      "    \n",
      "    <h1>Hello Allen !!</h1>\n",
      "    \n"
     ]
    }
   ],
   "source": [
    "import requests\n",
    "\n",
    "url = 'http://803c13ad001c.ngrok.io/hello_post'\n",
    "\n",
    "data = {\n",
    "    'username': 'Allen',\n",
    "    'test': '321'\n",
    "}\n",
    "\n",
    "res = requests.post(url, data=data)\n",
    "print(res.text)"
   ]
  },
  {
   "cell_type": "code",
   "execution_count": null,
   "metadata": {},
   "outputs": [],
   "source": []
  }
 ],
 "metadata": {
  "kernelspec": {
   "display_name": "Python 3",
   "language": "python",
   "name": "python3"
  },
  "language_info": {
   "codemirror_mode": {
    "name": "ipython",
    "version": 3
   },
   "file_extension": ".py",
   "mimetype": "text/x-python",
   "name": "python",
   "nbconvert_exporter": "python",
   "pygments_lexer": "ipython3",
   "version": "3.8.2"
  }
 },
 "nbformat": 4,
 "nbformat_minor": 4
}
