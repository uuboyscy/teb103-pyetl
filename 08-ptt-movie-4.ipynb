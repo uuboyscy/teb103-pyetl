{
 "cells": [
  {
   "cell_type": "code",
   "execution_count": 4,
   "metadata": {},
   "outputs": [
    {
     "name": "stdout",
     "output_type": "stream",
     "text": [
      "Re: [討論]寄生上流最討厭的一段\n",
      "https://www.ptt.cc/bbs/movie/M.1605406395.A.23B.html\n",
      "========\n",
      "[金馬影展]晨曦將至、通靈駕訓班、唬爛三小 \n",
      "https://www.ptt.cc/bbs/movie/M.1605408325.A.F8B.html\n",
      "========\n",
      "[好雷] 人生況味 Was wir wollten (Netflix奧片)\n",
      "https://www.ptt.cc/bbs/movie/M.1605409743.A.275.html\n",
      "========\n"
     ]
    },
    {
     "ename": "FileNotFoundError",
     "evalue": "[Errno 2] No such file or directory: './ptt/[公告] 板規 2020/03/01 (增加14.1).txt'",
     "output_type": "error",
     "traceback": [
      "\u001b[0;31m---------------------------------------------------------------------------\u001b[0m",
      "\u001b[0;31mFileNotFoundError\u001b[0m                         Traceback (most recent call last)",
      "\u001b[0;32m<ipython-input-4-b8ff9903d007>\u001b[0m in \u001b[0;36m<module>\u001b[0;34m\u001b[0m\n\u001b[1;32m     29\u001b[0m         \u001b[0marticleContent\u001b[0m \u001b[0;34m=\u001b[0m \u001b[0msoupArticle\u001b[0m\u001b[0;34m.\u001b[0m\u001b[0mselect_one\u001b[0m\u001b[0;34m(\u001b[0m\u001b[0;34m'div[id=\"main-content\"]'\u001b[0m\u001b[0;34m)\u001b[0m\u001b[0;34m\u001b[0m\u001b[0;34m\u001b[0m\u001b[0m\n\u001b[1;32m     30\u001b[0m         \u001b[0marticle\u001b[0m \u001b[0;34m=\u001b[0m \u001b[0marticleContent\u001b[0m\u001b[0;34m.\u001b[0m\u001b[0mtext\u001b[0m\u001b[0;34m.\u001b[0m\u001b[0msplit\u001b[0m\u001b[0;34m(\u001b[0m\u001b[0;34m'※ 發信站'\u001b[0m\u001b[0;34m)\u001b[0m\u001b[0;34m[\u001b[0m\u001b[0;36m0\u001b[0m\u001b[0;34m]\u001b[0m\u001b[0;34m\u001b[0m\u001b[0;34m\u001b[0m\u001b[0m\n\u001b[0;32m---> 31\u001b[0;31m         \u001b[0;32mwith\u001b[0m \u001b[0mopen\u001b[0m\u001b[0;34m(\u001b[0m\u001b[0mpath\u001b[0m \u001b[0;34m+\u001b[0m \u001b[0;34m'/%s.txt'\u001b[0m\u001b[0;34m%\u001b[0m\u001b[0;34m(\u001b[0m\u001b[0mtitle\u001b[0m\u001b[0;34m)\u001b[0m\u001b[0;34m,\u001b[0m \u001b[0;34m'w'\u001b[0m\u001b[0;34m,\u001b[0m \u001b[0mencoding\u001b[0m\u001b[0;34m=\u001b[0m\u001b[0;34m'utf-8'\u001b[0m\u001b[0;34m)\u001b[0m \u001b[0;32mas\u001b[0m \u001b[0mf\u001b[0m\u001b[0;34m:\u001b[0m\u001b[0;34m\u001b[0m\u001b[0;34m\u001b[0m\u001b[0m\n\u001b[0m\u001b[1;32m     32\u001b[0m             \u001b[0mf\u001b[0m\u001b[0;34m.\u001b[0m\u001b[0mwrite\u001b[0m\u001b[0;34m(\u001b[0m\u001b[0marticle\u001b[0m\u001b[0;34m)\u001b[0m\u001b[0;34m\u001b[0m\u001b[0;34m\u001b[0m\u001b[0m\n\u001b[1;32m     33\u001b[0m \u001b[0;34m\u001b[0m\u001b[0m\n",
      "\u001b[0;31mFileNotFoundError\u001b[0m: [Errno 2] No such file or directory: './ptt/[公告] 板規 2020/03/01 (增加14.1).txt'"
     ]
    }
   ],
   "source": [
    "import requests\n",
    "from bs4 import BeautifulSoup\n",
    "import os\n",
    "\n",
    "path = './ptt'\n",
    "if not os.path.exists(path):\n",
    "    os.mkdir(path)\n",
    "\n",
    "userAgent = 'Mozilla/5.0 (Macintosh; Intel Mac OS X 11_0_0) AppleWebKit/537.36 (KHTML, like Gecko) Chrome/86.0.4240.193 Safari/537.36'\n",
    "headers = {\n",
    "    'User-Agent': userAgent\n",
    "}\n",
    "\n",
    "url = 'https://www.ptt.cc/bbs/movie/index.html'\n",
    "\n",
    "for i in range(0, 3):\n",
    "    res = requests.get(url, headers=headers)\n",
    "    soup = BeautifulSoup(res.text, 'html.parser')\n",
    "\n",
    "    titles = soup.select('div.title')\n",
    "\n",
    "    for titleTag in titles:\n",
    "    #     print(titleTag)\n",
    "        title = titleTag.select_one('a').text\n",
    "        articleUrl = 'https://www.ptt.cc' + titleTag.select_one('a')['href']\n",
    "        # Extract article\n",
    "        resArticle = requests.get(articleUrl, headers=headers)\n",
    "        soupArticle = BeautifulSoup(resArticle.text, 'html.parser')\n",
    "        articleContent = soupArticle.select_one('div[id=\"main-content\"]')\n",
    "        article = articleContent.text.split('※ 發信站')[0]\n",
    "        with open(path + '/%s.txt'%(title), 'w', encoding='utf-8') as f:\n",
    "            f.write(article)\n",
    "        \n",
    "        print(title)\n",
    "        print(articleUrl)\n",
    "        print('========')\n",
    "\n",
    "    # Find new url\n",
    "    newUrl = 'https://www.ptt.cc' + soup.select('a[class=\"btn wide\"]')[1]['href']\n",
    "    # print(newUrl)\n",
    "    url = newUrl"
   ]
  },
  {
   "cell_type": "code",
   "execution_count": 3,
   "metadata": {},
   "outputs": [
    {
     "data": {
      "text/plain": [
       "'作者n901027 (大叔)看板movie標題[討論] 以前覺得好看的電影\"炸彈追殺令\"時間Sat Nov 14 22:19:14 2020\\n炸彈追殺令 Blown Away\\n\\n最近想到很久以前高職時代覺得很好看的一部電影\\n\\n但想不出來片名，只記得是跟炸彈有關的電影\\n\\n用關鍵字 炸彈 電影 去找，捍衛任務，炸彈追殺令 Blown Away，即時引爆等\\n\\n炸彈追殺令的網路查到看到一些片段，外國洋片，炸彈，在看劇情簡介討論等，我還記得\\n主角被報仇，劇情簡介和電影片段看起來就很像，但上網看討論，比捍衛任務還要難看，\\n還是模仿捍衛任務的一個電影，網路介紹電影只說電影男主角湯米李演技值得看而已，還有配樂好\\n\\n網路還說抄很多捍衛任務的劇情。以前，大概二十年前看到這部片還覺得很好看，回憶還真是過度美化\\n\\n男主角看到湯米李還覺得有點眼熟，但看網路又說是爛片，劇情簡介又跟我記憶的很像，但我印象卻是很好看\\n\\n應該是炸彈追殺令沒錯，還是我記錯了？有看到電影片段，製作炸彈的過程也跟我記憶的很像，電影片段找到兩個，劇情簡介也找到一些。\\n\\n--\\n珍惜現在，好讓將來不會後悔。\\n\\n--\\n'"
      ]
     },
     "execution_count": 3,
     "metadata": {},
     "output_type": "execute_result"
    }
   ],
   "source": [
    "import requests\n",
    "from bs4 import BeautifulSoup\n",
    "\n",
    "userAgent = 'Mozilla/5.0 (Macintosh; Intel Mac OS X 11_0_0) AppleWebKit/537.36 (KHTML, like Gecko) Chrome/86.0.4240.193 Safari/537.36'\n",
    "headers = {\n",
    "    'User-Agent': userAgent\n",
    "}\n",
    "\n",
    "articleUrl = 'https://www.ptt.cc/bbs/movie/M.1605363558.A.6DC.html'\n",
    "\n",
    "resArticle = requests.get(articleUrl, headers=headers)\n",
    "\n",
    "soupArticle = BeautifulSoup(resArticle.text, 'html.parser')\n",
    "\n",
    "articleContent = soupArticle.select_one('div[id=\"main-content\"]')\n",
    "\n",
    "articleContent.text.split('※ 發信站')[0]"
   ]
  },
  {
   "cell_type": "code",
   "execution_count": null,
   "metadata": {},
   "outputs": [],
   "source": []
  }
 ],
 "metadata": {
  "kernelspec": {
   "display_name": "Python 3",
   "language": "python",
   "name": "python3"
  },
  "language_info": {
   "codemirror_mode": {
    "name": "ipython",
    "version": 3
   },
   "file_extension": ".py",
   "mimetype": "text/x-python",
   "name": "python",
   "nbconvert_exporter": "python",
   "pygments_lexer": "ipython3",
   "version": "3.8.2"
  }
 },
 "nbformat": 4,
 "nbformat_minor": 4
}
