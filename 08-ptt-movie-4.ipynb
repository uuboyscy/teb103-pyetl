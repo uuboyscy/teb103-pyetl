{
 "cells": [
  {
   "cell_type": "code",
   "execution_count": 7,
   "metadata": {},
   "outputs": [
    {
     "name": "stdout",
     "output_type": "stream",
     "text": [
      "Re: [討論]寄生上流最討厭的一段\n",
      "https://www.ptt.cc/bbs/movie/M.1605406395.A.23B.html\n",
      "========\n",
      "[金馬影展]晨曦將至、通靈駕訓班、唬爛三小 \n",
      "https://www.ptt.cc/bbs/movie/M.1605408325.A.F8B.html\n",
      "========\n",
      "[好雷] 人生況味 Was wir wollten (Netflix奧片)\n",
      "https://www.ptt.cc/bbs/movie/M.1605409743.A.275.html\n",
      "========\n",
      "[Errno 2] No such file or directory: './ptt/[公告] 板規 2020/03/01 (增加14.1).txt'\n",
      "[公告] 板規 20200301 (增加14.1)\n",
      "https://www.ptt.cc/bbs/movie/M.1559611458.A.DCA.html\n",
      "========\n",
      "[公告] 關於跑步哥\n",
      "https://www.ptt.cc/bbs/movie/M.1578684521.A.1B8.html\n",
      "========\n",
      "[情報] 近期院線預計重映片單\n",
      "https://www.ptt.cc/bbs/movie/M.1589355894.A.CDD.html\n",
      "========\n",
      "[公告][板規] 電影版申訴與檢舉辦法\n",
      "https://www.ptt.cc/bbs/movie/M.1596465114.A.0D2.html\n",
      "========\n",
      "[Errno 2] No such file or directory: './ptt/[公告] 電影板板規12/08/2020.txt'\n",
      "[公告] 電影板板規12082020\n",
      "https://www.ptt.cc/bbs/movie/M.1597242609.A.606.html\n",
      "========\n",
      "[討論] 以前覺得好看的電影\"炸彈追殺令\"\n",
      "https://www.ptt.cc/bbs/movie/M.1605363558.A.6DC.html\n",
      "========\n",
      "[新聞] 《星際寶貝》真人版！「史迪奇」將寫實化\n",
      "https://www.ptt.cc/bbs/movie/M.1605370006.A.AAC.html\n",
      "========\n",
      "[贈票] CATCHPLAY+線上電影兌換序號(只到今天)\n",
      "https://www.ptt.cc/bbs/movie/M.1605370284.A.971.html\n",
      "========\n",
      "[普雷] 密弒直播\n",
      "https://www.ptt.cc/bbs/movie/M.1605370408.A.3A0.html\n",
      "========\n",
      "[討論]寄生上流最討厭的一段\n",
      "https://www.ptt.cc/bbs/movie/M.1605371548.A.50F.html\n",
      "========\n",
      "[好雷] 芭樂特2:讓哈薩克再次偉大\n",
      "https://www.ptt.cc/bbs/movie/M.1605372995.A.8E1.html\n",
      "========\n",
      "Re: [好雷] 試析神父《刻在》電影裡的意義（下）\n",
      "https://www.ptt.cc/bbs/movie/M.1605374549.A.627.html\n",
      "========\n",
      "[好雷] 我的媽媽開gay bar：讓母愛昇華\n",
      "https://www.ptt.cc/bbs/movie/M.1605375337.A.FDB.html\n",
      "========\n",
      "[討論] 孤味的一個習俗(有雷)\n",
      "https://www.ptt.cc/bbs/movie/M.1605377097.A.33E.html\n",
      "========\n",
      "[Errno 2] No such file or directory: './ptt/[選片] 親愛的房客/孤味.txt'\n",
      "[選片] 親愛的房客孤味\n",
      "https://www.ptt.cc/bbs/movie/M.1605379125.A.163.html\n",
      "========\n",
      "[好雷] 《親愛的房客》魂縈在舊夢裏\n",
      "https://www.ptt.cc/bbs/movie/M.1605379555.A.CFF.html\n",
      "========\n",
      "[新聞] 神力女超人1984可能在上映後不久便登陸串流\n",
      "https://www.ptt.cc/bbs/movie/M.1605380338.A.41B.html\n",
      "========\n",
      "[政治正確雷] 讓人坐立難安的女巫\n",
      "https://www.ptt.cc/bbs/movie/M.1605381979.A.A28.html\n",
      "========\n",
      "[普雷] 牠：第二章 - \"牠\"伴我同行\n",
      "https://www.ptt.cc/bbs/movie/M.1605386157.A.703.html\n",
      "========\n",
      "[好雷] 人生清理員 The Cleaner\n",
      "https://www.ptt.cc/bbs/movie/M.1605394814.A.A4B.html\n",
      "========\n",
      "Re: [討論] 孤味的一個習俗(有雷)\n",
      "https://www.ptt.cc/bbs/movie/M.1605401169.A.BAD.html\n",
      "========\n",
      "[請益]宋家王朝 一些關於蔣介石的問題\n",
      "https://www.ptt.cc/bbs/movie/M.1605402476.A.3D1.html\n",
      "========\n",
      "[新聞] 席維斯史特龍加入《自殺突擊隊：集結》！\n",
      "https://www.ptt.cc/bbs/movie/M.1605403703.A.040.html\n",
      "========\n",
      "[新聞] 倉木麻衣圓夢《柯南》尬一角\n",
      "https://www.ptt.cc/bbs/movie/M.1605404403.A.FEE.html\n",
      "========\n",
      "[ 負雷] 愛麗絲與夢幻島\n",
      "https://www.ptt.cc/bbs/movie/M.1605404477.A.EB0.html\n",
      "========\n",
      "[請益] 鬼滅二刷的選擇\n",
      "https://www.ptt.cc/bbs/movie/M.1605341227.A.893.html\n",
      "========\n",
      "[好雷] 親愛的房客-你不在的日子我依然實踐著愛\n",
      "https://www.ptt.cc/bbs/movie/M.1605343195.A.E86.html\n",
      "========\n",
      "[新聞] 在台10天票房衝2.7億！《鬼滅之刃》為何\n",
      "https://www.ptt.cc/bbs/movie/M.1605344102.A.875.html\n",
      "========\n",
      "[ 好雷] 《游牧人生》我們路上見\n",
      "https://www.ptt.cc/bbs/movie/M.1605345185.A.7DA.html\n",
      "========\n",
      "[請益] 我的媽媽開gay bar - Joan 劇情相關\n",
      "https://www.ptt.cc/bbs/movie/M.1605345884.A.556.html\n",
      "========\n",
      "[好雷] 逃亡的女人\n",
      "https://www.ptt.cc/bbs/movie/M.1605348369.A.892.html\n",
      "========\n",
      "[Live] HBO 21:00 暴走曼哈頓 (21 Bridges) \n",
      "https://www.ptt.cc/bbs/movie/M.1605348422.A.16F.html\n",
      "========\n",
      "[討論] 有比搶救雷恩大兵還好看的戰爭片嗎\n",
      "https://www.ptt.cc/bbs/movie/M.1605350107.A.6D1.html\n",
      "========\n",
      "[問片] 這屆金馬影展片頭\n",
      "https://www.ptt.cc/bbs/movie/M.1605351019.A.C93.html\n",
      "========\n",
      "[請益] 換人殺砍砍有無片尾？...有雷\n",
      "https://www.ptt.cc/bbs/movie/M.1605351169.A.0A3.html\n",
      "========\n",
      "[ 普雷] 換人殺砍砍:沒想像中精彩\n",
      "https://www.ptt.cc/bbs/movie/M.1605352361.A.893.html\n",
      "========\n",
      "Re: [新聞] 在台10天票房衝2.7億！《鬼滅之刃》為何\n",
      "https://www.ptt.cc/bbs/movie/M.1605357196.A.18E.html\n",
      "========\n",
      "[好雷] 鬼滅之刃無限列車（中文版）\n",
      "https://www.ptt.cc/bbs/movie/M.1605358035.A.B05.html\n",
      "========\n",
      "[新聞] 《中山魂》爭議製片釋疑:資金版權都是台灣\n",
      "https://www.ptt.cc/bbs/movie/M.1605359919.A.178.html\n",
      "========\n",
      "[負雷] 愛麗絲與夢幻島 \n",
      "https://www.ptt.cc/bbs/movie/M.1605360575.A.920.html\n",
      "========\n",
      "[Errno 2] No such file or directory: './ptt/[評論] 聞天祥談 / 金馬影展亞洲電影觀察團.txt'\n",
      "[評論] 聞天祥談  金馬影展亞洲電影觀察團\n",
      "https://www.ptt.cc/bbs/movie/M.1605360776.A.71C.html\n",
      "========\n",
      "[討論] 神片「即刻救援」的矛盾尾？\n",
      "https://www.ptt.cc/bbs/movie/M.1605360813.A.A20.html\n",
      "========\n",
      "[請益] 鬼滅之刃疑問，某人出現的緣由[雷]\n",
      "https://www.ptt.cc/bbs/movie/M.1605360823.A.0BF.html\n",
      "========\n",
      "[問片] 很久之前HBO小製片\n",
      "https://www.ptt.cc/bbs/movie/M.1605361608.A.149.html\n",
      "========\n",
      "[好雷] 《遊牧人生》- 致流浪的靈魂們\n",
      "https://www.ptt.cc/bbs/movie/M.1605361653.A.513.html\n",
      "========\n"
     ]
    }
   ],
   "source": [
    "import requests\n",
    "from bs4 import BeautifulSoup\n",
    "import os\n",
    "\n",
    "path = './ptt'\n",
    "if not os.path.exists(path):\n",
    "    os.mkdir(path)\n",
    "\n",
    "userAgent = 'Mozilla/5.0 (Macintosh; Intel Mac OS X 11_0_0) AppleWebKit/537.36 (KHTML, like Gecko) Chrome/86.0.4240.193 Safari/537.36'\n",
    "headers = {\n",
    "    'User-Agent': userAgent\n",
    "}\n",
    "\n",
    "url = 'https://www.ptt.cc/bbs/movie/index.html'\n",
    "\n",
    "for i in range(0, 3):\n",
    "    res = requests.get(url, headers=headers)\n",
    "    soup = BeautifulSoup(res.text, 'html.parser')\n",
    "\n",
    "    titles = soup.select('div.title')\n",
    "\n",
    "    for titleTag in titles:\n",
    "    #     print(titleTag)\n",
    "        title = titleTag.select_one('a').text\n",
    "        articleUrl = 'https://www.ptt.cc' + titleTag.select_one('a')['href']\n",
    "        # Extract article\n",
    "        resArticle = requests.get(articleUrl, headers=headers)\n",
    "        soupArticle = BeautifulSoup(resArticle.text, 'html.parser')\n",
    "        articleContent = soupArticle.select_one('div[id=\"main-content\"]')\n",
    "        article = articleContent.text.split('※ 發信站')[0]\n",
    "        try:\n",
    "            with open(path + '/%s.txt'%(title), 'w', encoding='utf-8') as f:\n",
    "                f.write(article)\n",
    "        except FileNotFoundError as e:\n",
    "            print(e)\n",
    "            title = title.replace('/', '')\n",
    "            with open(path + '/%s.txt'%(title), 'w', encoding='utf-8') as f:\n",
    "                f.write(article)\n",
    "        except OSError as e:\n",
    "            print(e)\n",
    "            pass\n",
    "        \n",
    "        print(title)\n",
    "        print(articleUrl)\n",
    "        print('========')\n",
    "\n",
    "    # Find new url\n",
    "    newUrl = 'https://www.ptt.cc' + soup.select('a[class=\"btn wide\"]')[1]['href']\n",
    "    # print(newUrl)\n",
    "    url = newUrl"
   ]
  },
  {
   "cell_type": "code",
   "execution_count": 17,
   "metadata": {},
   "outputs": [
    {
     "data": {
      "text/plain": [
       "'作者n901027 (大叔)看板movie標題[討論] 以前覺得好看的電影\"炸彈追殺令\"時間Sat Nov 14 22:19:14 2020\\n炸彈追殺令 Blown Away\\n\\n最近想到很久以前高職時代覺得很好看的一部電影\\n\\n但想不出來片名，只記得是跟炸彈有關的電影\\n\\n用關鍵字 炸彈 電影 去找，捍衛任務，炸彈追殺令 Blown Away，即時引爆等\\n\\n炸彈追殺令的網路查到看到一些片段，外國洋片，炸彈，在看劇情簡介討論等，我還記得\\n主角被報仇，劇情簡介和電影片段看起來就很像，但上網看討論，比捍衛任務還要難看，\\n還是模仿捍衛任務的一個電影，網路介紹電影只說電影男主角湯米李演技值得看而已，還有配樂好\\n\\n網路還說抄很多捍衛任務的劇情。以前，大概二十年前看到這部片還覺得很好看，回憶還真是過度美化\\n\\n男主角看到湯米李還覺得有點眼熟，但看網路又說是爛片，劇情簡介又跟我記憶的很像，但我印象卻是很好看\\n\\n應該是炸彈追殺令沒錯，還是我記錯了？有看到電影片段，製作炸彈的過程也跟我記憶的很像，電影片段找到兩個，劇情簡介也找到一些。\\n\\n--\\n珍惜現在，好讓將來不會後悔。\\n\\n--\\n'"
      ]
     },
     "execution_count": 17,
     "metadata": {},
     "output_type": "execute_result"
    }
   ],
   "source": [
    "import requests\n",
    "from bs4 import BeautifulSoup\n",
    "\n",
    "userAgent = 'Mozilla/5.0 (Macintosh; Intel Mac OS X 11_0_0) AppleWebKit/537.36 (KHTML, like Gecko) Chrome/86.0.4240.193 Safari/537.36'\n",
    "headers = {\n",
    "    'User-Agent': userAgent\n",
    "}\n",
    "\n",
    "articleUrl = 'https://www.ptt.cc/bbs/movie/M.1605363558.A.6DC.html'\n",
    "\n",
    "resArticle = requests.get(articleUrl, headers=headers)\n",
    "\n",
    "soupArticle = BeautifulSoup(resArticle.text, 'html.parser')\n",
    "\n",
    "articleContent = soupArticle.select_one('div[id=\"main-content\"]')\n",
    "\n",
    "articleContent.text.split('※ 發信站')[0]"
   ]
  },
  {
   "cell_type": "code",
   "execution_count": 31,
   "metadata": {
    "scrolled": true
   },
   "outputs": [
    {
     "data": {
      "text/plain": [
       "<div class=\"bbs-screen bbs-content\" id=\"main-content\"><div class=\"article-metaline\"><span class=\"article-meta-tag\">作者</span><span class=\"article-meta-value\">n901027 (大叔)</span></div><div class=\"article-metaline-right\"><span class=\"article-meta-tag\">看板</span><span class=\"article-meta-value\">movie</span></div><div class=\"article-metaline\"><span class=\"article-meta-tag\">標題</span><span class=\"article-meta-value\">[討論] 以前覺得好看的電影\"炸彈追殺令\"</span></div><div class=\"article-metaline\"><span class=\"article-meta-tag\">時間</span><span class=\"article-meta-value\">Sat Nov 14 22:19:14 2020</span></div>\n",
       "炸彈追殺令 Blown Away\n",
       "\n",
       "最近想到很久以前高職時代覺得很好看的一部電影\n",
       "\n",
       "但想不出來片名，只記得是跟炸彈有關的電影\n",
       "\n",
       "用關鍵字 炸彈 電影 去找，捍衛任務，炸彈追殺令 Blown Away，即時引爆等\n",
       "\n",
       "炸彈追殺令的網路查到看到一些片段，外國洋片，炸彈，在看劇情簡介討論等，我還記得\n",
       "主角被報仇，劇情簡介和電影片段看起來就很像，但上網看討論，比捍衛任務還要難看，\n",
       "還是模仿捍衛任務的一個電影，網路介紹電影只說電影男主角湯米李演技值得看而已，還有配樂好\n",
       "\n",
       "網路還說抄很多捍衛任務的劇情。以前，大概二十年前看到這部片還覺得很好看，回憶還真是過度美化\n",
       "\n",
       "男主角看到湯米李還覺得有點眼熟，但看網路又說是爛片，劇情簡介又跟我記憶的很像，但我印象卻是很好看\n",
       "\n",
       "應該是炸彈追殺令沒錯，還是我記錯了？有看到電影片段，製作炸彈的過程也跟我記憶的很像，電影片段找到兩個，劇情簡介也找到一些。\n",
       "\n",
       "--\n",
       "珍惜現在，好讓將來不會後悔。\n",
       "\n",
       "--\n",
       "<span class=\"f2\">※ 發信站: 批踢踢實業坊(ptt.cc), 來自: 114.26.192.109 (臺灣)\n",
       "</span><span class=\"f2\">※ 文章網址: <a href=\"https://www.ptt.cc/bbs/movie/M.1605363558.A.6DC.html\" rel=\"nofollow\" target=\"_blank\">https://www.ptt.cc/bbs/movie/M.1605363558.A.6DC.html</a>\n",
       "</span><div class=\"push\"><span class=\"hl push-tag\">推 </span><span class=\"f3 hl push-userid\">popstan     </span><span class=\"f3 push-content\">: 超好看啊！我還有買DVD來珍藏說！！！</span><span class=\"push-ipdatetime\"> 11/15 02:00\n",
       "</span></div><div class=\"push\"><span class=\"hl push-tag\">推 </span><span class=\"f3 hl push-userid\">popstan     </span><span class=\"f3 push-content\">: <a href=\"https://i.imgur.com/zzS93nZ.jpg\" rel=\"nofollow\" target=\"_blank\">https://i.imgur.com/zzS93nZ.jpg</a></span><span class=\"push-ipdatetime\"> 11/15 02:01\n",
       "</span></div><div class=\"richcontent\"><blockquote class=\"imgur-embed-pub\" data-id=\"zzS93nZ\" lang=\"en\"><a href=\"//imgur.com/zzS93nZ\"></a></blockquote><script async=\"\" charset=\"utf-8\" src=\"//s.imgur.com/min/embed.js\"></script></div><div class=\"push\"><span class=\"f1 hl push-tag\">→ </span><span class=\"f3 hl push-userid\">popstan     </span><span class=\"f3 push-content\">: 幹嘛管網路說是爛片 真心覺得好看啊！</span><span class=\"push-ipdatetime\"> 11/15 02:02\n",
       "</span></div><div class=\"push\"><span class=\"hl push-tag\">推 </span><span class=\"f3 hl push-userid\">kof010485   </span><span class=\"f3 push-content\">: 我國小看過一次印象很深刻，而且也覺得很好看啊</span><span class=\"push-ipdatetime\"> 11/15 05:43\n",
       "</span></div><div class=\"push\"><span class=\"f1 hl push-tag\">→ </span><span class=\"f3 hl push-userid\">jk1982      </span><span class=\"f3 push-content\">: 以前看錄影帶的，演什麼全忘了</span><span class=\"push-ipdatetime\"> 11/15 07:37\n",
       "</span></div><div class=\"push\"><span class=\"hl push-tag\">推 </span><span class=\"f3 hl push-userid\">a3300689    </span><span class=\"f3 push-content\">: 東森洋片台墊檔神片啊</span><span class=\"push-ipdatetime\"> 11/15 12:30\n",
       "</span></div></div>"
      ]
     },
     "execution_count": 31,
     "metadata": {},
     "output_type": "execute_result"
    }
   ],
   "source": [
    "import requests\n",
    "from bs4 import BeautifulSoup\n",
    "\n",
    "userAgent = 'Mozilla/5.0 (Macintosh; Intel Mac OS X 11_0_0) AppleWebKit/537.36 (KHTML, like Gecko) Chrome/86.0.4240.193 Safari/537.36'\n",
    "headers = {\n",
    "    'User-Agent': userAgent\n",
    "}\n",
    "\n",
    "articleUrl = 'https://www.ptt.cc/bbs/movie/M.1605363558.A.6DC.html'\n",
    "\n",
    "resArticle = requests.get(articleUrl, headers=headers)\n",
    "\n",
    "soupArticle = BeautifulSoup(resArticle.text, 'html.parser')\n",
    "\n",
    "articleContent = soupArticle.select_one('div[id=\"main-content\"]')\n",
    "\n",
    "articleContent"
   ]
  },
  {
   "cell_type": "code",
   "execution_count": 34,
   "metadata": {
    "scrolled": true
   },
   "outputs": [
    {
     "name": "stdout",
     "output_type": "stream",
     "text": [
      "<span class=\"article-meta-tag\">作者</span>\n",
      "<span class=\"article-meta-value\">n901027 (大叔)</span>\n",
      "<span class=\"article-meta-tag\">看板</span>\n",
      "<span class=\"article-meta-value\">movie</span>\n",
      "<span class=\"article-meta-tag\">標題</span>\n",
      "<span class=\"article-meta-value\">[討論] 以前覺得好看的電影\"炸彈追殺令\"</span>\n",
      "<span class=\"article-meta-tag\">時間</span>\n",
      "<span class=\"article-meta-value\">Sat Nov 14 22:19:14 2020</span>\n",
      "<span class=\"f2\">※ 發信站: 批踢踢實業坊(ptt.cc), 來自: 114.26.192.109 (臺灣)\n",
      "</span>\n",
      "<span class=\"f2\">※ 文章網址: <a href=\"https://www.ptt.cc/bbs/movie/M.1605363558.A.6DC.html\" rel=\"nofollow\" target=\"_blank\">https://www.ptt.cc/bbs/movie/M.1605363558.A.6DC.html</a>\n",
      "</span>\n",
      "<span class=\"hl push-tag\">推 </span>\n",
      "<span class=\"f3 hl push-userid\">popstan     </span>\n",
      "<span class=\"f3 push-content\">: 超好看啊！我還有買DVD來珍藏說！！！</span>\n",
      "<span class=\"push-ipdatetime\"> 11/15 02:00\n",
      "</span>\n",
      "<span class=\"hl push-tag\">推 </span>\n",
      "<span class=\"f3 hl push-userid\">popstan     </span>\n",
      "<span class=\"f3 push-content\">: <a href=\"https://i.imgur.com/zzS93nZ.jpg\" rel=\"nofollow\" target=\"_blank\">https://i.imgur.com/zzS93nZ.jpg</a></span>\n",
      "<span class=\"push-ipdatetime\"> 11/15 02:01\n",
      "</span>\n",
      "<span class=\"f1 hl push-tag\">→ </span>\n",
      "<span class=\"f3 hl push-userid\">popstan     </span>\n",
      "<span class=\"f3 push-content\">: 幹嘛管網路說是爛片 真心覺得好看啊！</span>\n",
      "<span class=\"push-ipdatetime\"> 11/15 02:02\n",
      "</span>\n",
      "<span class=\"hl push-tag\">推 </span>\n",
      "<span class=\"f3 hl push-userid\">kof010485   </span>\n",
      "<span class=\"f3 push-content\">: 我國小看過一次印象很深刻，而且也覺得很好看啊</span>\n",
      "<span class=\"push-ipdatetime\"> 11/15 05:43\n",
      "</span>\n",
      "<span class=\"f1 hl push-tag\">→ </span>\n",
      "<span class=\"f3 hl push-userid\">jk1982      </span>\n",
      "<span class=\"f3 push-content\">: 以前看錄影帶的，演什麼全忘了</span>\n",
      "<span class=\"push-ipdatetime\"> 11/15 07:37\n",
      "</span>\n",
      "<span class=\"hl push-tag\">推 </span>\n",
      "<span class=\"f3 hl push-userid\">a3300689    </span>\n",
      "<span class=\"f3 push-content\">: 東森洋片台墊檔神片啊</span>\n",
      "<span class=\"push-ipdatetime\"> 11/15 12:30\n",
      "</span>\n"
     ]
    }
   ],
   "source": [
    "for t in articleContent.select('span'):\n",
    "    print(t.extract())"
   ]
  },
  {
   "cell_type": "code",
   "execution_count": 35,
   "metadata": {},
   "outputs": [],
   "source": [
    "for t in articleContent.select('span'):\n",
    "    print(t)"
   ]
  },
  {
   "cell_type": "code",
   "execution_count": 36,
   "metadata": {
    "scrolled": true
   },
   "outputs": [
    {
     "data": {
      "text/plain": [
       "<div class=\"bbs-screen bbs-content\" id=\"main-content\"><div class=\"article-metaline\"></div><div class=\"article-metaline-right\"></div><div class=\"article-metaline\"></div><div class=\"article-metaline\"></div>\n",
       "炸彈追殺令 Blown Away\n",
       "\n",
       "最近想到很久以前高職時代覺得很好看的一部電影\n",
       "\n",
       "但想不出來片名，只記得是跟炸彈有關的電影\n",
       "\n",
       "用關鍵字 炸彈 電影 去找，捍衛任務，炸彈追殺令 Blown Away，即時引爆等\n",
       "\n",
       "炸彈追殺令的網路查到看到一些片段，外國洋片，炸彈，在看劇情簡介討論等，我還記得\n",
       "主角被報仇，劇情簡介和電影片段看起來就很像，但上網看討論，比捍衛任務還要難看，\n",
       "還是模仿捍衛任務的一個電影，網路介紹電影只說電影男主角湯米李演技值得看而已，還有配樂好\n",
       "\n",
       "網路還說抄很多捍衛任務的劇情。以前，大概二十年前看到這部片還覺得很好看，回憶還真是過度美化\n",
       "\n",
       "男主角看到湯米李還覺得有點眼熟，但看網路又說是爛片，劇情簡介又跟我記憶的很像，但我印象卻是很好看\n",
       "\n",
       "應該是炸彈追殺令沒錯，還是我記錯了？有看到電影片段，製作炸彈的過程也跟我記憶的很像，電影片段找到兩個，劇情簡介也找到一些。\n",
       "\n",
       "--\n",
       "珍惜現在，好讓將來不會後悔。\n",
       "\n",
       "--\n",
       "<div class=\"push\"></div><div class=\"push\"></div><div class=\"richcontent\"><blockquote class=\"imgur-embed-pub\" data-id=\"zzS93nZ\" lang=\"en\"><a href=\"//imgur.com/zzS93nZ\"></a></blockquote><script async=\"\" charset=\"utf-8\" src=\"//s.imgur.com/min/embed.js\"></script></div><div class=\"push\"></div><div class=\"push\"></div><div class=\"push\"></div><div class=\"push\"></div></div>"
      ]
     },
     "execution_count": 36,
     "metadata": {},
     "output_type": "execute_result"
    }
   ],
   "source": [
    "articleContent"
   ]
  },
  {
   "cell_type": "code",
   "execution_count": 37,
   "metadata": {},
   "outputs": [],
   "source": [
    "for t in articleContent.select('div'):\n",
    "    t.extract()"
   ]
  },
  {
   "cell_type": "code",
   "execution_count": 38,
   "metadata": {
    "scrolled": true
   },
   "outputs": [
    {
     "data": {
      "text/plain": [
       "<div class=\"bbs-screen bbs-content\" id=\"main-content\">\n",
       "炸彈追殺令 Blown Away\n",
       "\n",
       "最近想到很久以前高職時代覺得很好看的一部電影\n",
       "\n",
       "但想不出來片名，只記得是跟炸彈有關的電影\n",
       "\n",
       "用關鍵字 炸彈 電影 去找，捍衛任務，炸彈追殺令 Blown Away，即時引爆等\n",
       "\n",
       "炸彈追殺令的網路查到看到一些片段，外國洋片，炸彈，在看劇情簡介討論等，我還記得\n",
       "主角被報仇，劇情簡介和電影片段看起來就很像，但上網看討論，比捍衛任務還要難看，\n",
       "還是模仿捍衛任務的一個電影，網路介紹電影只說電影男主角湯米李演技值得看而已，還有配樂好\n",
       "\n",
       "網路還說抄很多捍衛任務的劇情。以前，大概二十年前看到這部片還覺得很好看，回憶還真是過度美化\n",
       "\n",
       "男主角看到湯米李還覺得有點眼熟，但看網路又說是爛片，劇情簡介又跟我記憶的很像，但我印象卻是很好看\n",
       "\n",
       "應該是炸彈追殺令沒錯，還是我記錯了？有看到電影片段，製作炸彈的過程也跟我記憶的很像，電影片段找到兩個，劇情簡介也找到一些。\n",
       "\n",
       "--\n",
       "珍惜現在，好讓將來不會後悔。\n",
       "\n",
       "--\n",
       "</div>"
      ]
     },
     "execution_count": 38,
     "metadata": {},
     "output_type": "execute_result"
    }
   ],
   "source": [
    "articleContent"
   ]
  },
  {
   "cell_type": "code",
   "execution_count": 39,
   "metadata": {},
   "outputs": [
    {
     "data": {
      "text/plain": [
       "'\\n炸彈追殺令 Blown Away\\n\\n最近想到很久以前高職時代覺得很好看的一部電影\\n\\n但想不出來片名，只記得是跟炸彈有關的電影\\n\\n用關鍵字 炸彈 電影 去找，捍衛任務，炸彈追殺令 Blown Away，即時引爆等\\n\\n炸彈追殺令的網路查到看到一些片段，外國洋片，炸彈，在看劇情簡介討論等，我還記得\\n主角被報仇，劇情簡介和電影片段看起來就很像，但上網看討論，比捍衛任務還要難看，\\n還是模仿捍衛任務的一個電影，網路介紹電影只說電影男主角湯米李演技值得看而已，還有配樂好\\n\\n網路還說抄很多捍衛任務的劇情。以前，大概二十年前看到這部片還覺得很好看，回憶還真是過度美化\\n\\n男主角看到湯米李還覺得有點眼熟，但看網路又說是爛片，劇情簡介又跟我記憶的很像，但我印象卻是很好看\\n\\n應該是炸彈追殺令沒錯，還是我記錯了？有看到電影片段，製作炸彈的過程也跟我記憶的很像，電影片段找到兩個，劇情簡介也找到一些。\\n\\n--\\n珍惜現在，好讓將來不會後悔。\\n\\n--\\n'"
      ]
     },
     "execution_count": 39,
     "metadata": {},
     "output_type": "execute_result"
    }
   ],
   "source": [
    "articleContent.text"
   ]
  },
  {
   "cell_type": "code",
   "execution_count": null,
   "metadata": {},
   "outputs": [],
   "source": []
  }
 ],
 "metadata": {
  "kernelspec": {
   "display_name": "Python 3",
   "language": "python",
   "name": "python3"
  },
  "language_info": {
   "codemirror_mode": {
    "name": "ipython",
    "version": 3
   },
   "file_extension": ".py",
   "mimetype": "text/x-python",
   "name": "python",
   "nbconvert_exporter": "python",
   "pygments_lexer": "ipython3",
   "version": "3.8.2"
  }
 },
 "nbformat": 4,
 "nbformat_minor": 4
}
