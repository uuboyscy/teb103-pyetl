{
 "cells": [
  {
   "cell_type": "code",
   "execution_count": 1,
   "metadata": {},
   "outputs": [
    {
     "name": "stdout",
     "output_type": "stream",
     "text": [
      "Collecting jieba\n",
      "  Using cached https://files.pythonhosted.org/packages/c6/cb/18eeb235f833b726522d7ebed54f2278ce28ba9438e3135ab0278d9792a2/jieba-0.42.1.tar.gz\n",
      "Installing collected packages: jieba\n",
      "  Running setup.py install for jieba ... \u001b[?25ldone\n",
      "\u001b[?25hSuccessfully installed jieba-0.42.1\n"
     ]
    }
   ],
   "source": [
    "!pip install jieba"
   ]
  },
  {
   "cell_type": "code",
   "execution_count": 2,
   "metadata": {},
   "outputs": [
    {
     "name": "stderr",
     "output_type": "stream",
     "text": [
      "Building prefix dict from the default dictionary ...\n",
      "Dumping model to file cache /var/folders/bv/8bbkzq895db366kq27vw262r0000gn/T/jieba.cache\n",
      "Loading model cost 0.766 seconds.\n",
      "Prefix dict has been built successfully.\n"
     ]
    },
    {
     "name": "stdout",
     "output_type": "stream",
     "text": [
      "大家|好|，|我|叫|小|賀|，|今天|來|大|數|據|班上|課|，|覺|得|非常|開|心\n",
      "大家|好|，|我|叫|小賀|，|今天|來大數|據|班上|課|，|覺得|非常|開心\n",
      "大家|好|，|我|叫|小賀|，|今天|來大數|據|班上|課|，|覺得|非常|開心\n",
      "大家|好|，|我|叫|小賀|，|今天|來大數|據|班上|課|，|覺得|非常|開心\n"
     ]
    }
   ],
   "source": [
    "import jieba\n",
    "\n",
    "s = \"大家好，我叫小賀，今天來大數據班上課，覺得非常開心\"\n",
    "\n",
    "sList1 = jieba.cut(s, cut_all=True)\n",
    "sList2 = jieba.cut(s, cut_all=False)\n",
    "sList3 = jieba.cut(s)\n",
    "sList4 = jieba.cut_for_search(s)\n",
    "\n",
    "print('|'.join(sList1))\n",
    "print('|'.join(sList2))\n",
    "print('|'.join(sList3))\n",
    "print('|'.join(sList4))"
   ]
  },
  {
   "cell_type": "code",
   "execution_count": 3,
   "metadata": {},
   "outputs": [],
   "source": [
    "jieba.load_userdict('./mydict.txt')"
   ]
  },
  {
   "cell_type": "code",
   "execution_count": 4,
   "metadata": {},
   "outputs": [
    {
     "name": "stdout",
     "output_type": "stream",
     "text": [
      "大家|好|，|我|叫|小|賀|，|今天|來|大數據|班上|課|，|覺|得|非常|開|心\n",
      "大家|好|，|我|叫|小賀|，|今天|來|大數據|班上|課|，|覺得|非常|開心\n",
      "大家|好|，|我|叫|小賀|，|今天|來|大數據|班上|課|，|覺得|非常|開心\n",
      "大家|好|，|我|叫|小賀|，|今天|來|大數據|班上|課|，|覺得|非常|開心\n"
     ]
    }
   ],
   "source": [
    "sList1 = jieba.cut(s, cut_all=True)\n",
    "sList2 = jieba.cut(s, cut_all=False)\n",
    "sList3 = jieba.cut(s)\n",
    "sList4 = jieba.cut_for_search(s)\n",
    "\n",
    "print('|'.join(sList1))\n",
    "print('|'.join(sList2))\n",
    "print('|'.join(sList3))\n",
    "print('|'.join(sList4))"
   ]
  },
  {
   "cell_type": "code",
   "execution_count": null,
   "metadata": {},
   "outputs": [],
   "source": []
  }
 ],
 "metadata": {
  "kernelspec": {
   "display_name": "Python 3",
   "language": "python",
   "name": "python3"
  },
  "language_info": {
   "codemirror_mode": {
    "name": "ipython",
    "version": 3
   },
   "file_extension": ".py",
   "mimetype": "text/x-python",
   "name": "python",
   "nbconvert_exporter": "python",
   "pygments_lexer": "ipython3",
   "version": "3.8.2"
  }
 },
 "nbformat": 4,
 "nbformat_minor": 4
}
